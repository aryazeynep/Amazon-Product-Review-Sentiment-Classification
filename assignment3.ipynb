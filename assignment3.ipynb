{
  "cells": [
    {
      "cell_type": "markdown",
      "id": "A4rSP8O1wAzS",
      "metadata": {
        "id": "A4rSP8O1wAzS"
      },
      "source": [
        "# BBM 409: Machine Learning Laboratory\n",
        "# Assignment 3\n",
        "\n",
        "**Students:**\n",
        "- Arda Ceylan: 2220356041\n",
        "- Arya Zeynep Mete: 2210356104\n",
        "\n",
        "**Objectives:**\n",
        " - The core aim of this project is to build a sentiment classification system from the ground up based on the Naive Bayes algorithm. The model is to be employed to label Amazon product reviews as positive, negative, or neutral depending on the text content. The reviews consist of a title and a body, and the model provides varying weights to each part depending on its relative significance in conveying sentiment. Furthermore, star ratings are employed to direct the sentiment labeling, where 1–2 stars are negative, 4–5 stars are positive, and 3 stars are treated as neutral.\n",
        "\n",
        " - This project includes the whole pipeline of a NLP task: data exploration, preprocessing, feature extraction with Bag-of-Words and unigrams and bigrams, model development, and evaluation. A customized version of the Naive Bayes classifier is implemented, with techniques such as Laplace smoothing and logarithm probability calculation. Model performance is evaluated with accuracy, precision, recall, and F1-score, providing information on how the classifier performs on various sentiment intensities and linguistic structures in real product reviews.\n",
        "\n",
        "- Additionally, the project explores an alternative approach using Word Embedding techniques (GloVe, Word2Vec and BoW with TF-IDF) combined with Logistic Regression, to compare with the baseline Bag-of-Words model. This part evaluates how word embeddings affect performance, allowing experimentation with external libraries such as NLTK. A comparative analysis is conducted across three models: the custom Naive Bayes classifier, an improved version using NLTK, and the embedding-based model.\n",
        "\n"
      ]
    },
    {
      "cell_type": "code",
      "execution_count": 1,
      "id": "2cde0f746e5e4746",
      "metadata": {
        "ExecuteTime": {
          "end_time": "2025-05-03T16:04:52.211936Z",
          "start_time": "2025-05-03T16:04:52.202939Z"
        },
        "id": "2cde0f746e5e4746"
      },
      "outputs": [],
      "source": [
        "import pandas as pd\n",
        "import numpy as np\n",
        "import seaborn as sns\n",
        "import matplotlib.pyplot as plt\n",
        "import re\n",
        "from collections import defaultdict, Counter\n",
        "from sklearn.model_selection import train_test_split"
      ]
    },
    {
      "cell_type": "code",
      "execution_count": null,
      "id": "cDPaez3YlGOE",
      "metadata": {
        "ExecuteTime": {
          "end_time": "2025-05-03T16:04:53.534869Z",
          "start_time": "2025-05-03T16:04:53.521674Z"
        },
        "colab": {
          "base_uri": "https://localhost:8080/"
        },
        "id": "cDPaez3YlGOE",
        "outputId": "19f9e675-a420-431e-9a22-e3ad66f0c4a6"
      },
      "outputs": [
        {
          "name": "stdout",
          "output_type": "stream",
          "text": [
            "Drive already mounted at /content/drive; to attempt to forcibly remount, call drive.mount(\"/content/drive\", force_remount=True).\n"
          ]
        }
      ],
      "source": [
        "# Connection to drive\n",
        "# from google.colab import drive\n",
        "# drive.mount('/content/drive')"
      ]
    },
    {
      "cell_type": "code",
      "execution_count": 2,
      "id": "3162868927037f4",
      "metadata": {
        "ExecuteTime": {
          "end_time": "2025-05-03T16:04:54.967016Z",
          "start_time": "2025-05-03T16:04:54.732903Z"
        },
        "id": "3162868927037f4"
      },
      "outputs": [],
      "source": [
        "# Get files from local\n",
        "df = pd.read_csv(\"amazon_reviews.csv\")\n",
        "\n",
        "# Get files from drive\n",
        "# file_path = \"/content/drive/My Drive/Colab_Notebooks/Assignment_3/amazon_reviews.csv\"\n",
        "# df = pd.read_csv(file_path)\n",
        "\n",
        "# Randomize the data\n",
        "df = df.sample(frac=1, random_state=42).reset_index(drop=True)"
      ]
    },
    {
      "cell_type": "markdown",
      "id": "U4xHduY0txUF",
      "metadata": {
        "id": "U4xHduY0txUF"
      },
      "source": [
        "## **Observe Data**"
      ]
    },
    {
      "cell_type": "code",
      "execution_count": 3,
      "id": "755b7b17ccb0378c",
      "metadata": {
        "ExecuteTime": {
          "end_time": "2025-05-03T16:04:56.260327Z",
          "start_time": "2025-05-03T16:04:56.246790Z"
        },
        "colab": {
          "base_uri": "https://localhost:8080/"
        },
        "id": "755b7b17ccb0378c",
        "outputId": "ff71c99b-a980-4652-f54e-412813b84b78"
      },
      "outputs": [
        {
          "name": "stdout",
          "output_type": "stream",
          "text": [
            "                                               Title  \\\n",
            "0  this one is not that good as they said. it is ...   \n",
            "1                               Comfortable earbuds!   \n",
            "2            Easy Set-Up but Spotty motion detection   \n",
            "3             Very soft and don't lose their \"fluff\"   \n",
            "4                                    Worth the buy!!   \n",
            "\n",
            "                                             Content  Star  \n",
            "0  this one is not that good as they said. it is ...   1.0  \n",
            "1  I like these earbuds. They are very comfortabl...   4.0  \n",
            "2  I like this camera a lot. It is easy to set up...   4.0  \n",
            "3  Very comfortable, can't remember if the were s...   3.0  \n",
            "4  Love this, especially for my sensitivity with ...   5.0  \n"
          ]
        }
      ],
      "source": [
        "print(df.head()) # Displays the first 5 rows"
      ]
    },
    {
      "cell_type": "code",
      "execution_count": 4,
      "id": "5341cc4119d4a218",
      "metadata": {
        "ExecuteTime": {
          "end_time": "2025-05-03T16:04:56.292022Z",
          "start_time": "2025-05-03T16:04:56.272328Z"
        },
        "colab": {
          "base_uri": "https://localhost:8080/"
        },
        "id": "5341cc4119d4a218",
        "outputId": "74deee5c-3061-4db1-a48b-46fa30f31963"
      },
      "outputs": [
        {
          "name": "stdout",
          "output_type": "stream",
          "text": [
            "Index(['Title', 'Content', 'Star'], dtype='object')\n"
          ]
        }
      ],
      "source": [
        "# Check column names to see the feature names:\n",
        "print(df.columns)"
      ]
    },
    {
      "cell_type": "code",
      "execution_count": 5,
      "id": "0kC-OPECjC94",
      "metadata": {
        "ExecuteTime": {
          "end_time": "2025-05-03T16:04:59.028183Z",
          "start_time": "2025-05-03T16:04:59.014195Z"
        },
        "colab": {
          "base_uri": "https://localhost:8080/"
        },
        "id": "0kC-OPECjC94",
        "outputId": "44615d76-b0b9-4111-e4a4-c7caea8dda85"
      },
      "outputs": [
        {
          "name": "stdout",
          "output_type": "stream",
          "text": [
            "Star\n",
            "1.0    14500\n",
            "4.0    14500\n",
            "3.0    14500\n",
            "5.0    14500\n",
            "2.0    14500\n",
            "Name: count, dtype: int64\n"
          ]
        }
      ],
      "source": [
        "# Categories\n",
        "risk_counts = df['Star'].value_counts()\n",
        "\n",
        "print(risk_counts)"
      ]
    },
    {
      "cell_type": "markdown",
      "id": "ghADna40G4_o",
      "metadata": {
        "id": "ghADna40G4_o"
      },
      "source": [
        ">> We can see that there is an equal distrubution between classes"
      ]
    },
    {
      "cell_type": "code",
      "execution_count": 6,
      "id": "2740d31ae0a842f2",
      "metadata": {
        "ExecuteTime": {
          "end_time": "2025-05-03T16:05:00.429618Z",
          "start_time": "2025-05-03T16:05:00.415530Z"
        },
        "colab": {
          "base_uri": "https://localhost:8080/"
        },
        "id": "2740d31ae0a842f2",
        "outputId": "e1c638e6-2fc5-4b0c-f745-39e00b2f1be9"
      },
      "outputs": [
        {
          "name": "stdout",
          "output_type": "stream",
          "text": [
            "Dataset Shape: (72500, 3)\n"
          ]
        }
      ],
      "source": [
        "print(f\"Dataset Shape: {df.shape}\")  # (rows, columns)"
      ]
    },
    {
      "cell_type": "code",
      "execution_count": 7,
      "id": "ab90bddf6c851cd9",
      "metadata": {
        "ExecuteTime": {
          "end_time": "2025-05-03T16:05:01.725604Z",
          "start_time": "2025-05-03T16:05:01.697548Z"
        },
        "colab": {
          "base_uri": "https://localhost:8080/"
        },
        "id": "ab90bddf6c851cd9",
        "outputId": "d5f6ce54-1bc4-4715-f45f-8dd733c67dd2"
      },
      "outputs": [
        {
          "name": "stdout",
          "output_type": "stream",
          "text": [
            "<class 'pandas.core.frame.DataFrame'>\n",
            "RangeIndex: 72500 entries, 0 to 72499\n",
            "Data columns (total 3 columns):\n",
            " #   Column   Non-Null Count  Dtype  \n",
            "---  ------   --------------  -----  \n",
            " 0   Title    72480 non-null  object \n",
            " 1   Content  72493 non-null  object \n",
            " 2   Star     72500 non-null  float64\n",
            "dtypes: float64(1), object(2)\n",
            "memory usage: 1.7+ MB\n",
            "None\n"
          ]
        }
      ],
      "source": [
        "# And let's see it's datatypes\n",
        "print(df.info())"
      ]
    },
    {
      "cell_type": "markdown",
      "id": "QVgbwjBpElgS",
      "metadata": {
        "id": "QVgbwjBpElgS"
      },
      "source": [
        ">> Not all features are 72500, we can see there are some missing parts"
      ]
    },
    {
      "cell_type": "markdown",
      "id": "WVNwD8K8tjG4",
      "metadata": {
        "id": "WVNwD8K8tjG4"
      },
      "source": [
        "## **Handling Missing Data**"
      ]
    },
    {
      "cell_type": "code",
      "execution_count": 8,
      "id": "rk5lQOW3HaQp",
      "metadata": {
        "ExecuteTime": {
          "end_time": "2025-05-03T16:05:03.114619Z",
          "start_time": "2025-05-03T16:05:03.084332Z"
        },
        "colab": {
          "base_uri": "https://localhost:8080/"
        },
        "id": "rk5lQOW3HaQp",
        "outputId": "b127ad0c-b8ff-466d-f726-7002a9db2bbb"
      },
      "outputs": [
        {
          "name": "stdout",
          "output_type": "stream",
          "text": [
            "Title      20\n",
            "Content     7\n",
            "Star        0\n",
            "dtype: int64\n"
          ]
        }
      ],
      "source": [
        "# Checking for missing values using isnull()\n",
        "\n",
        "def isMissing(df):\n",
        "  missing_values = df.isnull().sum()\n",
        "  print(missing_values)\n",
        "\n",
        "isMissing(df)"
      ]
    },
    {
      "cell_type": "markdown",
      "id": "jrkY-JzfHqDW",
      "metadata": {
        "id": "jrkY-JzfHqDW"
      },
      "source": [
        "> There are some missing values, we should handle them"
      ]
    },
    {
      "cell_type": "code",
      "execution_count": 9,
      "id": "Sgu1MX7nHhMu",
      "metadata": {
        "ExecuteTime": {
          "end_time": "2025-05-03T16:05:04.577974Z",
          "start_time": "2025-05-03T16:05:04.532971Z"
        },
        "colab": {
          "base_uri": "https://localhost:8080/"
        },
        "id": "Sgu1MX7nHhMu",
        "outputId": "ac072f16-b6a0-48a7-991d-fd87d9a19a45"
      },
      "outputs": [
        {
          "name": "stdout",
          "output_type": "stream",
          "text": [
            "Title      0\n",
            "Content    0\n",
            "Star       0\n",
            "dtype: int64\n"
          ]
        }
      ],
      "source": [
        "# drop nan values from dataset because we can't fill nan values by average or sth. because they are string values\n",
        "df.dropna(inplace=True)\n",
        "\n",
        "isMissing(df)"
      ]
    },
    {
      "cell_type": "markdown",
      "id": "YhLu7KBfZtqc",
      "metadata": {
        "id": "YhLu7KBfZtqc"
      },
      "source": [
        "> Now we handle all the missing values in dataset"
      ]
    },
    {
      "cell_type": "markdown",
      "id": "BVo559jjINrJ",
      "metadata": {
        "id": "BVo559jjINrJ"
      },
      "source": [
        "## **Preprocessing Data**\n",
        "\n",
        "\n"
      ]
    },
    {
      "cell_type": "markdown",
      "id": "bn-tdfgFouS6",
      "metadata": {
        "id": "bn-tdfgFouS6"
      },
      "source": [
        "- We convert all text to lowercase to normalize the input.\n",
        "- Punctuation marks are removed except exclamation points and apostrophes, as they may carry sentiment.\n",
        "- Stopwords are removed to reduce noise and focus on meaningful words."
      ]
    },
    {
      "cell_type": "code",
      "execution_count": 10,
      "id": "tXHJcV8Lzy8P",
      "metadata": {
        "ExecuteTime": {
          "end_time": "2025-05-03T16:05:09.403353Z",
          "start_time": "2025-05-03T16:05:09.056136Z"
        },
        "id": "tXHJcV8Lzy8P"
      },
      "outputs": [],
      "source": [
        "# Stopwords Elimination\n",
        "stopwords = {\n",
        "    'a', 'an', 'the', 'and', 'or', 'but', 'if', 'while', 'with', 'to', 'from',\n",
        "    'in', 'on', 'at', 'by', 'for', 'of', 'is', 'are', 'was', 'were', 'be',\n",
        "    'been', 'being', 'have', 'has', 'had', 'do', 'does', 'did', 'this', 'that',\n",
        "    'these', 'those', 'it', 'its', 'he', 'she', 'they', 'them', 'we', 'us',\n",
        "    'you', 'i', 'me', 'my', 'your', 'yours', 'their', 'theirs', 'his', 'her',\n",
        "    'as', 'not', 'no', 'so', 'too', 'can', 'will', 'just', 'then', 'than',\n",
        "    'what', 'which', 'there', 'here', 'when', 'where', 'how', 'why', 'who'\n",
        "}"
      ]
    },
    {
      "cell_type": "code",
      "execution_count": 11,
      "id": "Vb5679Ic4uPo",
      "metadata": {
        "ExecuteTime": {
          "end_time": "2025-05-03T16:05:10.812498Z",
          "start_time": "2025-05-03T16:05:10.798495Z"
        },
        "id": "Vb5679Ic4uPo"
      },
      "outputs": [],
      "source": [
        "def preprocess_text(text):\n",
        "    if not isinstance(text, str):\n",
        "        return []\n",
        "\n",
        "    # Keep word characters, apostrophes, and exclamation marks (for sentiment)\n",
        "    text = re.sub(r\"[^\\w'\\s!]\", '', text.lower())\n",
        "    tokens = text.split()\n",
        "\n",
        "    # Remove stopwords but keep words with '!' as they may indicate sentiment\n",
        "    return [word for word in tokens if word not in stopwords or '!' in word]"
      ]
    },
    {
      "cell_type": "code",
      "execution_count": 15,
      "id": "oA0g_Y0Q5Brn",
      "metadata": {
        "ExecuteTime": {
          "end_time": "2025-05-03T16:05:12.015858Z",
          "start_time": "2025-05-03T16:05:12.002290Z"
        },
        "id": "oA0g_Y0Q5Brn"
      },
      "outputs": [],
      "source": [
        "def combine_text(row):\n",
        "    title = row['Title'] if (row['Title']) else ''\n",
        "    content = row['Content'] if (row['Content']) else ''\n",
        "\n",
        "    # Stronger negative/positive reviews get more weight\n",
        "    star = row['Star']\n",
        "    if star == 1:\n",
        "        strength_weight = 3\n",
        "    elif star == 2:\n",
        "        strength_weight = 2\n",
        "    elif star == 4:\n",
        "        strength_weight = 2\n",
        "    elif star == 5:\n",
        "        strength_weight = 3\n",
        "    else:\n",
        "        strength_weight = 1\n",
        "\n",
        "    weighted_text = []\n",
        "\n",
        "    # Titles often contain the core sentiment summary, so we weight them more heavily (2x)\n",
        "    title_words = preprocess_text(title)\n",
        "    weighted_text.extend(title_words * 2)\n",
        "\n",
        "    content_words = preprocess_text(content)\n",
        "    weighted_text.extend(content_words)\n",
        "\n",
        "    # Apply strength weighting by repeating words\n",
        "    if strength_weight > 1:\n",
        "        weighted_text = weighted_text * int(strength_weight)\n",
        "\n",
        "    return weighted_text"
      ]
    },
    {
      "cell_type": "markdown",
      "id": "GOXxV9Tso4nw",
      "metadata": {
        "id": "GOXxV9Tso4nw"
      },
      "source": [
        "- Titles are given 2x the weight compared to the content because they often summarize the main sentiment of a review.\n",
        "- Reviews are also weighted by their sentiment strength:\n",
        "  - 1-star and 5-star reviews (strong sentiment) are given 3x repetition,\n",
        "  - 2-star and 4-star reviews (moderate sentiment) are repeated 2x,\n",
        "  - 3-star reviews are used without repetition.\n",
        "- This weighting helps the model learn not only the sentiment class but the intensity of the sentiment."
      ]
    },
    {
      "cell_type": "code",
      "execution_count": 16,
      "id": "fWpN348_E1To",
      "metadata": {
        "ExecuteTime": {
          "end_time": "2025-05-03T16:05:14.681552Z",
          "start_time": "2025-05-03T16:05:13.197605Z"
        },
        "colab": {
          "base_uri": "https://localhost:8080/"
        },
        "id": "fWpN348_E1To",
        "outputId": "2cc2a2c7-d3ab-4f7d-a515-702e282294e7"
      },
      "outputs": [
        {
          "name": "stdout",
          "output_type": "stream",
          "text": [
            "46600    [1, 2, cards, faulty, amazon, quickly, made, r...\n",
            "12598    [nothing, cool, laptop, nothing, cool, laptop,...\n",
            "61162    [pillow, hot, pillow, hot, support, very, good...\n",
            "69011    [a1, a1, great, hat, perfect, working, outside...\n",
            "71815    [comfort, comfort, shrink, after, first, time,...\n",
            "Name: processed_text, dtype: object\n",
            "46600    pos\n",
            "12598    neg\n",
            "61162    neg\n",
            "69011    pos\n",
            "71815    neg\n",
            "Name: label, dtype: object\n"
          ]
        }
      ],
      "source": [
        "df['label'] = df['Star'].apply(lambda x: 'neg' if x <= 2 else 'neu' if x == 3 else 'pos')\n",
        "df['processed_text'] = df.apply(combine_text, axis=1)\n",
        "\n",
        "# Split data\n",
        "X = df['processed_text']\n",
        "y = df['label']\n",
        "X_train, X_test, y_train, y_test = train_test_split(X, y, test_size=0.2, random_state=42)\n",
        "\n",
        "print(X_train.head())\n",
        "print(y_train.head())"
      ]
    },
    {
      "cell_type": "markdown",
      "id": "9AUnvtZ7p7aw",
      "metadata": {
        "id": "9AUnvtZ7p7aw"
      },
      "source": [
        "- We classified 1-star and 2-star reviews as \"negative\" and 4-star and 5-star reviews as \"positive\". The 3-star reviews are inherently ambiguous — they may reflect either a slightly positive, neutral, or slightly negative sentiment. To avoid introducing noise due to this ambiguity, we decided to retain the 3-star reviews as a separate \"neutral\" class.\n",
        "\n",
        "- This decision allows the model to better distinguish between strong opinions and neutral feedback. It also aligns with real-world sentiment analysis tasks where neutral feedback can be meaningful (e.g., identifying indifferent customers). However, this also introduces a three-class classification problem instead of binary, which is considered in our evaluation."
      ]
    },
    {
      "cell_type": "code",
      "execution_count": 17,
      "id": "6d0kqKbSOOhG",
      "metadata": {
        "ExecuteTime": {
          "end_time": "2025-05-03T16:05:16.042860Z",
          "start_time": "2025-05-03T16:05:16.028084Z"
        },
        "id": "6d0kqKbSOOhG"
      },
      "outputs": [],
      "source": [
        "# N-gram generation function\n",
        "def get_ngrams(tokens, n=2):\n",
        "    return [' '.join(tokens[i:i+n]) for i in range(len(tokens)-n+1)]"
      ]
    },
    {
      "cell_type": "code",
      "execution_count": 18,
      "id": "KzAxmlJqFcFf",
      "metadata": {
        "ExecuteTime": {
          "end_time": "2025-05-03T16:05:20.637209Z",
          "start_time": "2025-05-03T16:05:17.368221Z"
        },
        "id": "KzAxmlJqFcFf"
      },
      "outputs": [],
      "source": [
        "class_counts = Counter()\n",
        "class_word_counts = defaultdict(Counter)\n",
        "vocab = set()\n",
        "\n",
        "for text, label in zip(X_train, y_train):\n",
        "    class_counts[label] += 1\n",
        "\n",
        "    tokens = text\n",
        "    ngrams = tokens + get_ngrams(tokens, 2)\n",
        "\n",
        "    # Update counts\n",
        "    for ngram in ngrams:\n",
        "        class_word_counts[label][ngram] += 1\n",
        "        vocab.add(ngram)\n",
        "\n",
        "# Calculate totals\n",
        "total_words_per_class = {label: sum(counts.values()) for label, counts in class_word_counts.items()}\n",
        "vocab_size = len(vocab)"
      ]
    },
    {
      "cell_type": "markdown",
      "id": "SnqhQfsNpLfk",
      "metadata": {
        "id": "SnqhQfsNpLfk"
      },
      "source": [
        "- We use both unigrams and bigrams to represent the text. Bigrams help capture short phrases like \"not good\" or \"very bad\" which are important for sentiment.\n",
        "- A custom dictionary (`vocab`, `class_word_counts`) is constructed from scratch to store term frequencies per class.\n",
        "- Laplace Smoothing (+1) is applied to prevent zero probabilities for unseen words in test data.\n",
        "- Logarithmic probabilities are used to avoid numerical underflow during multiplication of small numbers."
      ]
    },
    {
      "cell_type": "markdown",
      "id": "e_KMddiMscwU",
      "metadata": {
        "id": "e_KMddiMscwU"
      },
      "source": [
        "### **Results For Bigram Model**"
      ]
    },
    {
      "cell_type": "code",
      "execution_count": 19,
      "id": "88wvkgxG_xY8",
      "metadata": {
        "ExecuteTime": {
          "end_time": "2025-05-03T16:05:26.518853Z",
          "start_time": "2025-05-03T16:05:22.069546Z"
        },
        "colab": {
          "base_uri": "https://localhost:8080/"
        },
        "id": "88wvkgxG_xY8",
        "outputId": "1eb88804-1654-43e0-b45c-d64a1ccd9e21"
      },
      "outputs": [
        {
          "name": "stdout",
          "output_type": "stream",
          "text": [
            "Classification Results:\n",
            "NEG: Accuracy=0.7916, Recall=0.7222, Precision=0.7443, F1=0.7331\n",
            "NEU: Accuracy=0.7436, Recall=0.3268, Precision=0.3583, F1=0.3418\n",
            "POS: Accuracy=0.8366, Recall=0.8328, Precision=0.7752, F1=0.8030\n"
          ]
        }
      ],
      "source": [
        "# Prediction function\n",
        "\n",
        "def predict(text, n=2):\n",
        "    tokens = preprocess_text(text) if isinstance(text, str) else text\n",
        "    ngrams = tokens + get_ngrams(tokens, n)\n",
        "\n",
        "    log_probs = {}\n",
        "    total_docs = sum(class_counts.values())\n",
        "\n",
        "    for label in class_counts:\n",
        "        # Prior probability\n",
        "        log_prob = np.log(class_counts[label] / total_docs)\n",
        "\n",
        "        # Likelihood\n",
        "        for word in ngrams:\n",
        "            count = class_word_counts[label].get(word, 0)\n",
        "            log_prob += np.log((count + 1) / (total_words_per_class[label] + vocab_size))\n",
        "\n",
        "        log_probs[label] = log_prob\n",
        "\n",
        "    return max(log_probs, key=log_probs.get)\n",
        "\n",
        "# Evaluate\n",
        "y_pred = [predict(\" \".join(text), 2) for text in X_test]\n",
        "\n",
        "# Metrics\n",
        "def compute_metrics(y_true, y_pred, label):\n",
        "    TP = sum((yt == label and yp == label) for yt, yp in zip(y_true, y_pred))\n",
        "    TN = sum((yt != label and yp != label) for yt, yp in zip(y_true, y_pred))\n",
        "    FP = sum((yt != label and yp == label) for yt, yp in zip(y_true, y_pred))\n",
        "    FN = sum((yt == label and yp != label) for yt, yp in zip(y_true, y_pred))\n",
        "\n",
        "    accuracy = (TP + TN) / (TP + TN + FP + FN)\n",
        "    recall = TP / (TP + FN) if TP + FN != 0 else 0\n",
        "    precision = TP / (TP + FP) if TP + FP != 0 else 0\n",
        "    f1 = 2 * precision * recall / (precision + recall) if precision + recall != 0 else 0\n",
        "    return accuracy, recall, precision, f1\n",
        "\n",
        "labels = sorted(y_train.unique())\n",
        "results = {label: compute_metrics(y_test, y_pred, label) for label in labels}\n",
        "print(\"Classification Results:\")\n",
        "for label, (acc, rec, prec, f1) in results.items():\n",
        "    print(f\"{label.upper()}: Accuracy={acc:.4f}, Recall={rec:.4f}, Precision={prec:.4f}, F1={f1:.4f}\")"
      ]
    },
    {
      "cell_type": "markdown",
      "id": "6htvXSQqsn9_",
      "metadata": {
        "id": "6htvXSQqsn9_"
      },
      "source": [
        "### **Results For Unigram Model**\n",
        "\n"
      ]
    },
    {
      "cell_type": "code",
      "execution_count": 20,
      "id": "i2RqO5fSsuMR",
      "metadata": {
        "colab": {
          "base_uri": "https://localhost:8080/"
        },
        "id": "i2RqO5fSsuMR",
        "outputId": "1598b781-ae3e-49bc-8e01-c8f56f24e2a7"
      },
      "outputs": [
        {
          "name": "stdout",
          "output_type": "stream",
          "text": [
            "Classification Results:\n",
            "NEG: Accuracy=0.7813, Recall=0.6637, Precision=0.7549, F1=0.7064\n",
            "NEU: Accuracy=0.7250, Recall=0.4639, Precision=0.3631, F1=0.4074\n",
            "POS: Accuracy=0.8281, Recall=0.7742, Precision=0.7914, F1=0.7827\n"
          ]
        }
      ],
      "source": [
        "class_counts = Counter()\n",
        "class_word_counts = defaultdict(Counter)\n",
        "vocab = set()\n",
        "\n",
        "for text, label in zip(X_train, y_train):\n",
        "    class_counts[label] += 1\n",
        "\n",
        "    tokens = text\n",
        "    ngrams = tokens + get_ngrams(tokens, 1)\n",
        "\n",
        "    # Update counts\n",
        "    for ngram in ngrams:\n",
        "        class_word_counts[label][ngram] += 1\n",
        "        vocab.add(ngram)\n",
        "\n",
        "# Calculate totals\n",
        "total_words_per_class = {label: sum(counts.values()) for label, counts in class_word_counts.items()}\n",
        "vocab_size = len(vocab)\n",
        "\n",
        "# Evaluate\n",
        "y_pred = [predict(\" \".join(text), 1) for text in X_test]\n",
        "\n",
        "labels = sorted(y_train.unique())\n",
        "results = {label: compute_metrics(y_test, y_pred, label) for label in labels}\n",
        "print(\"Classification Results:\")\n",
        "for label, (acc, rec, prec, f1) in results.items():\n",
        "    print(f\"{label.upper()}: Accuracy={acc:.4f}, Recall={rec:.4f}, Precision={prec:.4f}, F1={f1:.4f}\")"
      ]
    },
    {
      "cell_type": "markdown",
      "id": "QUqtW0mwwAW2",
      "metadata": {
        "id": "QUqtW0mwwAW2"
      },
      "source": [
        ">> The bigram model achieved 1-2% higher accuracy on average compared to the unigram model, indicating that capturing word pairs provides additional contextual information that improves sentiment classification."
      ]
    },
    {
      "cell_type": "markdown",
      "id": "qpZjHJwjy8y8",
      "metadata": {
        "id": "qpZjHJwjy8y8"
      },
      "source": [
        "## **Bonus Part**"
      ]
    },
    {
      "cell_type": "code",
      "execution_count": 21,
      "id": "3WhwxgRqy6Eq",
      "metadata": {
        "ExecuteTime": {
          "end_time": "2025-05-03T16:09:26.777647Z",
          "start_time": "2025-05-03T16:09:26.762472Z"
        },
        "id": "3WhwxgRqy6Eq"
      },
      "outputs": [],
      "source": [
        "from sklearn.linear_model import LogisticRegression\n",
        "from sklearn.metrics import classification_report\n",
        "from sklearn.feature_extraction.text import TfidfVectorizer\n",
        "from sklearn.metrics import confusion_matrix, ConfusionMatrixDisplay\n",
        "import gensim.downloader as api\n",
        "from gensim.models import Word2Vec"
      ]
    },
    {
      "cell_type": "markdown",
      "id": "-RmfYiUrzN6I",
      "metadata": {
        "id": "-RmfYiUrzN6I"
      },
      "source": [
        "### **BoW with TF-IDF + Logistic Regression**"
      ]
    },
    {
      "cell_type": "code",
      "execution_count": null,
      "id": "ZY5uPdQ0zbNW",
      "metadata": {
        "ExecuteTime": {
          "end_time": "2025-05-03T16:09:32.719250Z",
          "start_time": "2025-05-03T16:09:28.184829Z"
        },
        "id": "ZY5uPdQ0zbNW",
        "outputId": "dbcb8376-b270-4902-efc9-177a8618f170"
      },
      "outputs": [
        {
          "name": "stderr",
          "output_type": "stream",
          "text": [
            "C:\\Users\\ardac\\PycharmProjects\\PythonProject\\.venv\\lib\\site-packages\\sklearn\\feature_extraction\\text.py:517: UserWarning: The parameter 'token_pattern' will not be used since 'tokenizer' is not None'\n",
            "  warnings.warn(\n"
          ]
        },
        {
          "name": "stdout",
          "output_type": "stream",
          "text": [
            "TF-IDF with Logistic Regression:\n",
            "              precision    recall  f1-score   support\n",
            "\n",
            "         neg       0.72      0.84      0.77      5745\n",
            "         neu       0.48      0.25      0.33      2953\n",
            "         pos       0.78      0.83      0.80      5797\n",
            "\n",
            "    accuracy                           0.72     14495\n",
            "   macro avg       0.66      0.64      0.64     14495\n",
            "weighted avg       0.69      0.72      0.69     14495\n",
            "\n"
          ]
        }
      ],
      "source": [
        "# TF-IDF Vectorization\n",
        "tfidf_vectorizer = TfidfVectorizer(tokenizer=lambda x: x, preprocessor=lambda x: x)\n",
        "X_train_tfidf = tfidf_vectorizer.fit_transform(X_train)\n",
        "X_test_tfidf = tfidf_vectorizer.transform(X_test)\n",
        "\n",
        "# Logistic Regression\n",
        "tfidf_lr = LogisticRegression(max_iter=1000)\n",
        "tfidf_lr.fit(X_train_tfidf, y_train)\n",
        "y_pred_tfidf = tfidf_lr.predict(X_test_tfidf)\n",
        "\n",
        "print(\"TF-IDF with Logistic Regression:\")\n",
        "print(classification_report(y_test, y_pred_tfidf))"
      ]
    },
    {
      "cell_type": "markdown",
      "id": "_BDJM4uPAYOe",
      "metadata": {
        "id": "_BDJM4uPAYOe"
      },
      "source": [
        "### **Word2Vec with Logistic Regression**"
      ]
    },
    {
      "cell_type": "code",
      "execution_count": null,
      "id": "hmVe1vYhAot6",
      "metadata": {
        "ExecuteTime": {
          "end_time": "2025-05-03T16:10:35.735432Z",
          "start_time": "2025-05-03T16:09:39.611300Z"
        },
        "id": "hmVe1vYhAot6",
        "outputId": "dfa3ce09-bb2b-4b11-e69c-8721b45fecfb"
      },
      "outputs": [
        {
          "name": "stdout",
          "output_type": "stream",
          "text": [
            "Word2Vec with Logistic Regression:\n",
            "              precision    recall  f1-score   support\n",
            "\n",
            "         neg       0.69      0.85      0.76      5745\n",
            "         neu       0.48      0.18      0.26      2953\n",
            "         pos       0.76      0.83      0.80      5797\n",
            "\n",
            "    accuracy                           0.71     14495\n",
            "   macro avg       0.64      0.62      0.61     14495\n",
            "weighted avg       0.68      0.71      0.67     14495\n",
            "\n"
          ]
        }
      ],
      "source": [
        "w2v_model = Word2Vec(\n",
        "    sentences=X_train,\n",
        "    vector_size=300,\n",
        "    window=10,\n",
        "    min_count=2,\n",
        "    workers=4,\n",
        "    epochs=20\n",
        ")\n",
        "\n",
        "# Document vectorization (mean-pooling with OOV handling)\n",
        "def document_vector(model, doc):\n",
        "    doc = [word for word in doc if word in model.wv]\n",
        "    if len(doc) == 0:\n",
        "        return np.zeros(model.vector_size)\n",
        "    return np.mean(model.wv[doc], axis=0)\n",
        "\n",
        "X_train_w2v = np.array([document_vector(w2v_model, doc) for doc in X_train])\n",
        "X_test_w2v = np.array([document_vector(w2v_model, doc) for doc in X_test])\n",
        "\n",
        "# Logistic Regression with regularization\n",
        "w2v_lr = LogisticRegression(max_iter=1000, C=0.1, penalty='l2')\n",
        "w2v_lr.fit(X_train_w2v, y_train)\n",
        "y_pred_w2v = w2v_lr.predict(X_test_w2v)\n",
        "\n",
        "print(\"Word2Vec with Logistic Regression:\")\n",
        "print(classification_report(y_test, y_pred_w2v))"
      ]
    },
    {
      "cell_type": "markdown",
      "id": "9ecd4e05456b39db",
      "metadata": {
        "id": "9ecd4e05456b39db"
      },
      "source": [
        "### **GloVe with Logistic Regression**"
      ]
    },
    {
      "cell_type": "code",
      "execution_count": null,
      "id": "53d3a19c3179f3d2",
      "metadata": {
        "ExecuteTime": {
          "end_time": "2025-05-03T16:11:40.328282Z",
          "start_time": "2025-05-03T16:10:40.045588Z"
        },
        "id": "53d3a19c3179f3d2",
        "outputId": "6316d075-707c-4e92-e174-32547b06d700"
      },
      "outputs": [
        {
          "name": "stdout",
          "output_type": "stream",
          "text": [
            "GloVe with Logistic Regression:\n",
            "              precision    recall  f1-score   support\n",
            "\n",
            "         neg       0.71      0.67      0.69      5745\n",
            "         neu       0.34      0.47      0.40      2953\n",
            "         pos       0.77      0.67      0.72      5797\n",
            "\n",
            "    accuracy                           0.63     14495\n",
            "   macro avg       0.61      0.60      0.60     14495\n",
            "weighted avg       0.66      0.63      0.64     14495\n",
            "\n"
          ]
        }
      ],
      "source": [
        "glove_model = api.load(\"glove-wiki-gigaword-300\")\n",
        "\n",
        "# Document vectorization (mean-pooling with OOV handling)\n",
        "def document_vector_glove(model, doc):\n",
        "    doc = [word for word in doc if word in model]\n",
        "    if len(doc) == 0:\n",
        "        return np.zeros(model.vector_size)\n",
        "    return np.mean(model[doc], axis=0)\n",
        "\n",
        "X_train_glove = np.array([document_vector_glove(glove_model, doc) for doc in X_train])\n",
        "X_test_glove = np.array([document_vector_glove(glove_model, doc) for doc in X_test])\n",
        "\n",
        "# Logistic Regression with class weights (handling imbalance)\n",
        "glove_lr = LogisticRegression(max_iter=1000, class_weight='balanced')\n",
        "glove_lr.fit(X_train_glove, y_train)\n",
        "y_pred_glove = glove_lr.predict(X_test_glove)\n",
        "\n",
        "print(\"GloVe with Logistic Regression:\")\n",
        "print(classification_report(y_test, y_pred_glove))"
      ]
    },
    {
      "cell_type": "code",
      "execution_count": null,
      "id": "1f61fa4ea2482050",
      "metadata": {
        "ExecuteTime": {
          "end_time": "2025-05-03T16:11:44.476896Z",
          "start_time": "2025-05-03T16:11:44.066894Z"
        },
        "id": "1f61fa4ea2482050",
        "outputId": "ae1685b0-06f7-4f31-c755-d388d6775c6d"
      },
      "outputs": [
        {
          "data": {
            "image/png": "[encoded data removed]",
            "text/plain": [
              "<Figure size 1800x500 with 6 Axes>"
            ]
          },
          "metadata": {},
          "output_type": "display_data"
        }
      ],
      "source": [
        "# Plot confusion matrices for all three methods\n",
        "methods = {\n",
        "    \"TF-IDF + LR\": y_pred_tfidf,\n",
        "    \"Word2Vec + LR\": y_pred_w2v,\n",
        "    \"GloVe + LR\": y_pred_glove\n",
        "}\n",
        "\n",
        "fig, axes = plt.subplots(1, 3, figsize=(18, 5))\n",
        "for ax, (name, pred) in zip(axes, methods.items()):\n",
        "    cm = confusion_matrix(y_test, pred, labels=['neg', 'neu', 'pos'])\n",
        "    disp = ConfusionMatrixDisplay(cm, display_labels=['neg', 'neu', 'pos'])\n",
        "    disp.plot(ax=ax, cmap='Blues')\n",
        "    ax.set_title(name)\n",
        "plt.tight_layout()\n",
        "plt.show()"
      ]
    },
    {
      "cell_type": "code",
      "execution_count": null,
      "id": "c75a19590865a91f",
      "metadata": {
        "ExecuteTime": {
          "end_time": "2025-05-03T16:11:46.388382Z",
          "start_time": "2025-05-03T16:11:45.948896Z"
        },
        "id": "c75a19590865a91f",
        "outputId": "121d0ac8-9c6d-4aa7-b7f5-1c11d50426a7"
      },
      "outputs": [
        {
          "data": {
            "image/png": "[encoded data removed]",
            "text/plain": [
              "<Figure size 1000x500 with 1 Axes>"
            ]
          },
          "metadata": {},
          "output_type": "display_data"
        }
      ],
      "source": [
        "# Compare F1-scores across methods\n",
        "results = {\n",
        "    \"Naïve Bayes (Original)\": classification_report(y_test, y_pred, output_dict=True),\n",
        "    \"TF-IDF + LR\": classification_report(y_test, y_pred_tfidf, output_dict=True),\n",
        "    \"Word2Vec + LR\": classification_report(y_test, y_pred_w2v, output_dict=True),\n",
        "    \"GloVe + LR\": classification_report(y_test, y_pred_glove, output_dict=True)\n",
        "}\n",
        "\n",
        "# Extract macro F1-scores\n",
        "f1_scores = {\n",
        "    method: report['macro avg']['f1-score']\n",
        "    for method, report in results.items()\n",
        "}\n",
        "\n",
        "# Plot comparison\n",
        "plt.figure(figsize=(10, 5))\n",
        "sns.barplot(x=list(f1_scores.keys()), y=list(f1_scores.values()))\n",
        "plt.xticks(rotation=45)\n",
        "plt.title(\"Comparison of Macro F1-Scores\")\n",
        "plt.ylabel(\"F1-Score\")\n",
        "plt.show()"
      ]
    }
  ],
  "metadata": {
    "colab": {
      "collapsed_sections": [
        "U4xHduY0txUF",
        "-RmfYiUrzN6I"
      ],
      "provenance": []
    },
    "kernelspec": {
      "display_name": "Python 3",
      "language": "python",
      "name": "python3"
    },
    "language_info": {
      "codemirror_mode": {
        "name": "ipython",
        "version": 3
      },
      "file_extension": ".py",
      "mimetype": "text/x-python",
      "name": "python",
      "nbconvert_exporter": "python",
      "pygments_lexer": "ipython3",
      "version": "3.12.5"
    }
  },
  "nbformat": 4,
  "nbformat_minor": 5
}
